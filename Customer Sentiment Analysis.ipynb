{
 "cells": [
  {
   "cell_type": "code",
   "execution_count": null,
   "id": "a5f7a9b7-945e-4afb-99b3-b85f4c872165",
   "metadata": {},
   "outputs": [],
   "source": [
    "#Customer Sentiment Analysis"
   ]
  },
  {
   "cell_type": "code",
   "execution_count": null,
   "id": "a96e21cb-5130-444c-bf29-07a4372b486f",
   "metadata": {},
   "outputs": [],
   "source": [
    "#As a Data Analyst at Amazon, you have been tasked with gauging customer sentiment towards the iPhone 15 128GB model.\n",
    "#The primary goal of this project is to analyze public perception and evaluate customer reactions by performing sentiment analysis on product reviews posted by users.\n",
    "#By extracting and processing customer reviews, you will derive insights about the overall sentiment (positive or negative) surrounding the product, which can be useful for decision-making, improving customer experience, and identifying key areas for product improvement."
   ]
  },
  {
   "cell_type": "code",
   "execution_count": 4,
   "id": "1cfc9384-aadc-4c4e-8375-527d05e61ec6",
   "metadata": {},
   "outputs": [
    {
     "name": "stdout",
     "output_type": "stream",
     "text": [
      "ChromeDriver works!\n"
     ]
    }
   ],
   "source": [
    "from selenium import webdriver\n",
    "driver = webdriver.Chrome()\n",
    "driver.get(\"https://www.google.com\")\n",
    "print(\"ChromeDriver works!\")\n",
    "driver.quit()"
   ]
  },
  {
   "cell_type": "code",
   "execution_count": null,
   "id": "886911f3-fc33-461f-9136-0c88b946134a",
   "metadata": {},
   "outputs": [],
   "source": [
    "#Data Collection(Web Scrapping)"
   ]
  },
  {
   "cell_type": "code",
   "execution_count": 1,
   "id": "25d41531-1579-4bf4-a53b-624d5b38346f",
   "metadata": {},
   "outputs": [],
   "source": [
    "#Use Libraries\n",
    "from bs4 import BeautifulSoup\n",
    "import requests\n",
    "from selenium import webdriver\n",
    "from selenium.webdriver.common.by import By\n",
    "from selenium.webdriver.common.keys import Keys\n",
    "import time\n",
    "import pandas as pd"
   ]
  },
  {
   "cell_type": "code",
   "execution_count": 38,
   "id": "342cb5dc-d07e-4a93-809f-081b469e927f",
   "metadata": {},
   "outputs": [
    {
     "name": "stdout",
     "output_type": "stream",
     "text": [
      "Number of names scraped: 320\n",
      "Number of cities scraped: 320\n",
      "Number of dates scraped: 320\n",
      "Number of reviews scraped: 320\n",
      "Number of ratings scraped: 320\n"
     ]
    }
   ],
   "source": [
    "\n",
    "# Create empty lists to store the user data such as Name, City, Date of Purchase, Review & Rating\n",
    "Names = []\n",
    "Cities = []\n",
    "Dates = []\n",
    "Reviews = []\n",
    "Ratings = []\n",
    "\n",
    "# Assign the url of the flipkart website and use selenium to scrape data\n",
    "url = \"\"\"https://www.flipkart.com/apple-iphone-15-green-128-gb/product-reviews/itm235cd318bde73?pid=MOBGTAGPYYWZRUJX&lid=LSTMOBGTAGPYYWZRUJXRK8B5V&marketplace=FLIPKART\"\"\"\n",
    "driver = webdriver.Chrome()\n",
    "driver.get(url)\n",
    "\n",
    "\n",
    "while len(Names) < 320:\n",
    "\n",
    "    time.sleep(2) # Pauses the execution for 2 seconds\n",
    "    soup = BeautifulSoup(driver.page_source, \"html.parser\")\n",
    "\n",
    "    # Scrape names\n",
    "    temp_names = soup.find_all(\"p\", {\"class\": \"_2NsDsF AwS1CA\"})\n",
    "    for name in temp_names:\n",
    "        Names.append(name.text)\n",
    "\n",
    "    # Scrape cities\n",
    "    temp_cities = soup.find_all(\"p\", {\"class\": \"MztJPv\"}) \n",
    "    for city in temp_cities:\n",
    "        Cities.append(city.text)\n",
    "\n",
    "    # Scrape dates\n",
    "    temp_dates = soup.find_all(\"p\", {\"class\": \"_2NsDsF\"}) \n",
    "    for date in temp_dates:\n",
    "        Dates.append(date.text)\n",
    "    Actual_Dates = Dates[1::2] # This is likely to correct for how dates are scraped, keeping it as is.\n",
    "\n",
    "    # Scrape reviews\n",
    "    temp_reviews = soup.find_all(\"div\", {\"class\": \"ZmyHeo\"})\n",
    "    for review in temp_reviews:\n",
    "        Reviews.append(review.text)\n",
    "\n",
    "    # Scrape ratings\n",
    "    temp_ratings = soup.find_all(\"div\", class_ = \"XQDdHH Ga3i8K\")\n",
    "    for ratings in temp_ratings:\n",
    "        Ratings.append(ratings.text)\n",
    "\n",
    "    # Try to click the \"Next\" button\n",
    "    try:\n",
    "        next_button = driver.find_element(By.XPATH, \"//span[text()='Next']\")\n",
    "        next_button.click()\n",
    "        time.sleep(5) # Pauses for 5 seconds after clicking next to allow page to load\n",
    "    except:\n",
    "        break\n",
    "\n",
    "# Optional: Print the lengths of the lists to see how many items were scraped\n",
    "print(f\"Number of names scraped: {len(Names)}\")\n",
    "print(f\"Number of cities scraped: {len(Cities)}\")\n",
    "print(f\"Number of dates scraped: {len(Actual_Dates)}\")\n",
    "print(f\"Number of reviews scraped: {len(Reviews)}\")\n",
    "print(f\"Number of ratings scraped: {len(Ratings)}\")\n",
    "\n",
    "# Optional: Close the browser after scraping\n",
    "driver.quit()\n"
   ]
  },
  {
   "cell_type": "code",
   "execution_count": 14,
   "id": "75ab86fc-6f81-4951-aca9-21fddc4fcddf",
   "metadata": {},
   "outputs": [
    {
     "name": "stdout",
     "output_type": "stream",
     "text": [
      "                      Username                              City  \\\n",
      "0    Thakur Surya Pratap Singh         Certified Buyer, Hanumana   \n",
      "1               bijaya mohanty        Certified Buyer, Baleshwar   \n",
      "2                       Ajin V         Certified Buyer, Balaghat   \n",
      "3                 Rishabh  Jha        Certified Buyer, Tikamgarh   \n",
      "4                 Nikhil Kumar  Certified Buyer, Meerut Division   \n",
      "..                         ...                               ...   \n",
      "302              Ranjith kumar        Certified Buyer, Bangalore   \n",
      "303            Divyanshu Singh         Certified Buyer, Bilaspur   \n",
      "304             RubaL Pasricha        Certified Buyer, New Delhi   \n",
      "305                Rahul Yadav  Certified Buyer, Araria District   \n",
      "306     Syed Intekhab  Hussain          Certified Buyer, Silchar   \n",
      "\n",
      "            Dates                                            Reviews Rating  \n",
      "0    5 months ago                                 Awesome 😎READ MORE      5  \n",
      "1       May, 2024  Just go for it.Amazing one.Beautiful camera wi...      5  \n",
      "2       Oct, 2023                      High quality camera😍READ MORE      5  \n",
      "3       Apr, 2024                              Awesome 🔥🔥☺️READ MORE      5  \n",
      "4       Jan, 2024  Switch from OnePlus to iPhone I am stunned wit...      5  \n",
      "..            ...                                                ...    ...  \n",
      "302     Jun, 2024  Bought 256gb green variant 😍,new to iosIOS is ...      5  \n",
      "303     Jun, 2024  Worth every penny .. Confused between pixel an...      5  \n",
      "304     Jun, 2024  Bought it from flipkart, as I was getting the ...      5  \n",
      "305     May, 2024                                    Good 👍READ MORE      5  \n",
      "306     May, 2024  The best in class iphone. Many people may mock...      5  \n",
      "\n",
      "[307 rows x 5 columns]\n"
     ]
    }
   ],
   "source": [
    "import pandas as pd\n",
    "df = pd.DataFrame({\n",
    "    \"Username\": Names[:min_length],\n",
    "    \"City\": Cities[:min_length],\n",
    "    \"Dates\": Actual_Dates[:min_length],\n",
    "    \"Reviews\": Reviews[:min_length],\n",
    "    \"Rating\": Ratings[:min_length] \n",
    "})\n",
    "\n",
    "print(df)"
   ]
  },
  {
   "cell_type": "code",
   "execution_count": 15,
   "id": "dbea5dbb-0529-4964-a561-82ca30760129",
   "metadata": {},
   "outputs": [],
   "source": [
    "#Data Cleaning and Processing \n"
   ]
  },
  {
   "cell_type": "code",
   "execution_count": 16,
   "id": "8e08e00d-9108-41d1-b912-3c5d38cac68e",
   "metadata": {},
   "outputs": [
    {
     "name": "stdout",
     "output_type": "stream",
     "text": [
      "<class 'pandas.core.frame.DataFrame'>\n",
      "RangeIndex: 307 entries, 0 to 306\n",
      "Data columns (total 5 columns):\n",
      " #   Column    Non-Null Count  Dtype \n",
      "---  ------    --------------  ----- \n",
      " 0   Username  307 non-null    object\n",
      " 1   City      307 non-null    object\n",
      " 2   Dates     307 non-null    object\n",
      " 3   Reviews   307 non-null    object\n",
      " 4   Rating    307 non-null    object\n",
      "dtypes: object(5)\n",
      "memory usage: 12.1+ KB\n"
     ]
    }
   ],
   "source": [
    "# Check the basic info of the dataframe\n",
    "df.info()"
   ]
  },
  {
   "cell_type": "code",
   "execution_count": 17,
   "id": "cd672668-c25c-4bb8-9eca-8d08d854d61b",
   "metadata": {},
   "outputs": [
    {
     "data": {
      "text/html": [
       "<div>\n",
       "<style scoped>\n",
       "    .dataframe tbody tr th:only-of-type {\n",
       "        vertical-align: middle;\n",
       "    }\n",
       "\n",
       "    .dataframe tbody tr th {\n",
       "        vertical-align: top;\n",
       "    }\n",
       "\n",
       "    .dataframe thead th {\n",
       "        text-align: right;\n",
       "    }\n",
       "</style>\n",
       "<table border=\"1\" class=\"dataframe\">\n",
       "  <thead>\n",
       "    <tr style=\"text-align: right;\">\n",
       "      <th></th>\n",
       "      <th>Username</th>\n",
       "      <th>City</th>\n",
       "      <th>Dates</th>\n",
       "      <th>Reviews</th>\n",
       "      <th>Rating</th>\n",
       "    </tr>\n",
       "  </thead>\n",
       "  <tbody>\n",
       "    <tr>\n",
       "      <th>0</th>\n",
       "      <td>Thakur Surya Pratap Singh</td>\n",
       "      <td>Certified Buyer, Hanumana</td>\n",
       "      <td>5 months ago</td>\n",
       "      <td>Awesome 😎READ MORE</td>\n",
       "      <td>5</td>\n",
       "    </tr>\n",
       "    <tr>\n",
       "      <th>1</th>\n",
       "      <td>bijaya mohanty</td>\n",
       "      <td>Certified Buyer, Baleshwar</td>\n",
       "      <td>May, 2024</td>\n",
       "      <td>Just go for it.Amazing one.Beautiful camera wi...</td>\n",
       "      <td>5</td>\n",
       "    </tr>\n",
       "    <tr>\n",
       "      <th>2</th>\n",
       "      <td>Ajin V</td>\n",
       "      <td>Certified Buyer, Balaghat</td>\n",
       "      <td>Oct, 2023</td>\n",
       "      <td>High quality camera😍READ MORE</td>\n",
       "      <td>5</td>\n",
       "    </tr>\n",
       "    <tr>\n",
       "      <th>3</th>\n",
       "      <td>Rishabh  Jha</td>\n",
       "      <td>Certified Buyer, Tikamgarh</td>\n",
       "      <td>Apr, 2024</td>\n",
       "      <td>Awesome 🔥🔥☺️READ MORE</td>\n",
       "      <td>5</td>\n",
       "    </tr>\n",
       "    <tr>\n",
       "      <th>4</th>\n",
       "      <td>Nikhil Kumar</td>\n",
       "      <td>Certified Buyer, Meerut Division</td>\n",
       "      <td>Jan, 2024</td>\n",
       "      <td>Switch from OnePlus to iPhone I am stunned wit...</td>\n",
       "      <td>5</td>\n",
       "    </tr>\n",
       "    <tr>\n",
       "      <th>...</th>\n",
       "      <td>...</td>\n",
       "      <td>...</td>\n",
       "      <td>...</td>\n",
       "      <td>...</td>\n",
       "      <td>...</td>\n",
       "    </tr>\n",
       "    <tr>\n",
       "      <th>302</th>\n",
       "      <td>Ranjith kumar</td>\n",
       "      <td>Certified Buyer, Bangalore</td>\n",
       "      <td>Jun, 2024</td>\n",
       "      <td>Bought 256gb green variant 😍,new to iosIOS is ...</td>\n",
       "      <td>5</td>\n",
       "    </tr>\n",
       "    <tr>\n",
       "      <th>303</th>\n",
       "      <td>Divyanshu Singh</td>\n",
       "      <td>Certified Buyer, Bilaspur</td>\n",
       "      <td>Jun, 2024</td>\n",
       "      <td>Worth every penny .. Confused between pixel an...</td>\n",
       "      <td>5</td>\n",
       "    </tr>\n",
       "    <tr>\n",
       "      <th>304</th>\n",
       "      <td>RubaL Pasricha</td>\n",
       "      <td>Certified Buyer, New Delhi</td>\n",
       "      <td>Jun, 2024</td>\n",
       "      <td>Bought it from flipkart, as I was getting the ...</td>\n",
       "      <td>5</td>\n",
       "    </tr>\n",
       "    <tr>\n",
       "      <th>305</th>\n",
       "      <td>Rahul Yadav</td>\n",
       "      <td>Certified Buyer, Araria District</td>\n",
       "      <td>May, 2024</td>\n",
       "      <td>Good 👍READ MORE</td>\n",
       "      <td>5</td>\n",
       "    </tr>\n",
       "    <tr>\n",
       "      <th>306</th>\n",
       "      <td>Syed Intekhab  Hussain</td>\n",
       "      <td>Certified Buyer, Silchar</td>\n",
       "      <td>May, 2024</td>\n",
       "      <td>The best in class iphone. Many people may mock...</td>\n",
       "      <td>5</td>\n",
       "    </tr>\n",
       "  </tbody>\n",
       "</table>\n",
       "<p>307 rows × 5 columns</p>\n",
       "</div>"
      ],
      "text/plain": [
       "                      Username                              City  \\\n",
       "0    Thakur Surya Pratap Singh         Certified Buyer, Hanumana   \n",
       "1               bijaya mohanty        Certified Buyer, Baleshwar   \n",
       "2                       Ajin V         Certified Buyer, Balaghat   \n",
       "3                 Rishabh  Jha        Certified Buyer, Tikamgarh   \n",
       "4                 Nikhil Kumar  Certified Buyer, Meerut Division   \n",
       "..                         ...                               ...   \n",
       "302              Ranjith kumar        Certified Buyer, Bangalore   \n",
       "303            Divyanshu Singh         Certified Buyer, Bilaspur   \n",
       "304             RubaL Pasricha        Certified Buyer, New Delhi   \n",
       "305                Rahul Yadav  Certified Buyer, Araria District   \n",
       "306     Syed Intekhab  Hussain          Certified Buyer, Silchar   \n",
       "\n",
       "            Dates                                            Reviews Rating  \n",
       "0    5 months ago                                 Awesome 😎READ MORE      5  \n",
       "1       May, 2024  Just go for it.Amazing one.Beautiful camera wi...      5  \n",
       "2       Oct, 2023                      High quality camera😍READ MORE      5  \n",
       "3       Apr, 2024                              Awesome 🔥🔥☺️READ MORE      5  \n",
       "4       Jan, 2024  Switch from OnePlus to iPhone I am stunned wit...      5  \n",
       "..            ...                                                ...    ...  \n",
       "302     Jun, 2024  Bought 256gb green variant 😍,new to iosIOS is ...      5  \n",
       "303     Jun, 2024  Worth every penny .. Confused between pixel an...      5  \n",
       "304     Jun, 2024  Bought it from flipkart, as I was getting the ...      5  \n",
       "305     May, 2024                                    Good 👍READ MORE      5  \n",
       "306     May, 2024  The best in class iphone. Many people may mock...      5  \n",
       "\n",
       "[307 rows x 5 columns]"
      ]
     },
     "execution_count": 17,
     "metadata": {},
     "output_type": "execute_result"
    }
   ],
   "source": [
    "# Drop the duplicates from the dataframe\n",
    "df = df.copy()\n",
    "df = df.drop_duplicates()\n",
    "df"
   ]
  },
  {
   "cell_type": "code",
   "execution_count": null,
   "id": "3737f359-540d-4f1a-a66a-5632efb31d9e",
   "metadata": {},
   "outputs": [],
   "source": []
  },
  {
   "cell_type": "code",
   "execution_count": 39,
   "id": "47b3abf6-32a6-4858-a080-2abe84cdb934",
   "metadata": {},
   "outputs": [
    {
     "data": {
      "text/html": [
       "<div>\n",
       "<style scoped>\n",
       "    .dataframe tbody tr th:only-of-type {\n",
       "        vertical-align: middle;\n",
       "    }\n",
       "\n",
       "    .dataframe tbody tr th {\n",
       "        vertical-align: top;\n",
       "    }\n",
       "\n",
       "    .dataframe thead th {\n",
       "        text-align: right;\n",
       "    }\n",
       "</style>\n",
       "<table border=\"1\" class=\"dataframe\">\n",
       "  <thead>\n",
       "    <tr style=\"text-align: right;\">\n",
       "      <th></th>\n",
       "      <th>CUSTOMER NAME</th>\n",
       "      <th>city</th>\n",
       "      <th>DATE</th>\n",
       "      <th>REVIEW</th>\n",
       "      <th>RATING</th>\n",
       "    </tr>\n",
       "  </thead>\n",
       "  <tbody>\n",
       "    <tr>\n",
       "      <th>0</th>\n",
       "      <td>User_0</td>\n",
       "      <td>City_0</td>\n",
       "      <td>Feb, 2024</td>\n",
       "      <td>awesome product 0 !</td>\n",
       "      <td>1</td>\n",
       "    </tr>\n",
       "    <tr>\n",
       "      <th>1</th>\n",
       "      <td>User_1</td>\n",
       "      <td>City_1</td>\n",
       "      <td>Feb, 2024</td>\n",
       "      <td>awesome product 1 !</td>\n",
       "      <td>2</td>\n",
       "    </tr>\n",
       "    <tr>\n",
       "      <th>2</th>\n",
       "      <td>User_2</td>\n",
       "      <td>City_2</td>\n",
       "      <td>Feb, 2024</td>\n",
       "      <td>awesome product 2 !</td>\n",
       "      <td>3</td>\n",
       "    </tr>\n",
       "    <tr>\n",
       "      <th>3</th>\n",
       "      <td>User_3</td>\n",
       "      <td>City_3</td>\n",
       "      <td>Feb, 2024</td>\n",
       "      <td>awesome product 3 !</td>\n",
       "      <td>4</td>\n",
       "    </tr>\n",
       "    <tr>\n",
       "      <th>4</th>\n",
       "      <td>User_4</td>\n",
       "      <td>City_4</td>\n",
       "      <td>Feb, 2024</td>\n",
       "      <td>awesome product 4 !</td>\n",
       "      <td>5</td>\n",
       "    </tr>\n",
       "  </tbody>\n",
       "</table>\n",
       "</div>"
      ],
      "text/plain": [
       "  CUSTOMER NAME    city       DATE               REVIEW RATING\n",
       "0        User_0  City_0  Feb, 2024  awesome product 0 !      1\n",
       "1        User_1  City_1  Feb, 2024  awesome product 1 !      2\n",
       "2        User_2  City_2  Feb, 2024  awesome product 2 !      3\n",
       "3        User_3  City_3  Feb, 2024  awesome product 3 !      4\n",
       "4        User_4  City_4  Feb, 2024  awesome product 4 !      5"
      ]
     },
     "execution_count": 39,
     "metadata": {},
     "output_type": "execute_result"
    }
   ],
   "source": [
    "# Clean data of City column by removing unwanted characters/ part of string\n",
    "df['city'] = df['city'].str.replace(\"Certified Buyer, \", \"\", regex=False).str.strip()\n",
    "df.head()"
   ]
  },
  {
   "cell_type": "code",
   "execution_count": null,
   "id": "b322427c-9f16-41dc-a8ab-4542530af4d5",
   "metadata": {},
   "outputs": [],
   "source": [
    "#3. Sentiment Analysis:"
   ]
  },
  {
   "cell_type": "code",
   "execution_count": 40,
   "id": "d8a3bf53-a4af-4cd2-b3a9-78b25b0266a8",
   "metadata": {},
   "outputs": [
    {
     "name": "stderr",
     "output_type": "stream",
     "text": [
      "[nltk_data] Downloading package stopwords to\n",
      "[nltk_data]     C:\\Users\\Hamza\\AppData\\Roaming\\nltk_data...\n",
      "[nltk_data]   Unzipping corpora\\stopwords.zip.\n",
      "[nltk_data] Downloading package punkt to\n",
      "[nltk_data]     C:\\Users\\Hamza\\AppData\\Roaming\\nltk_data...\n",
      "[nltk_data]   Unzipping tokenizers\\punkt.zip.\n",
      "[nltk_data] Downloading package wordnet to\n",
      "[nltk_data]     C:\\Users\\Hamza\\AppData\\Roaming\\nltk_data...\n"
     ]
    },
    {
     "data": {
      "text/plain": [
       "True"
      ]
     },
     "execution_count": 40,
     "metadata": {},
     "output_type": "execute_result"
    }
   ],
   "source": [
    "# Import libraries for Sentimental analysis of review sentences \n",
    "import nltk\n",
    "from nltk.corpus import stopwords\n",
    "from nltk.tokenize import sent_tokenize\n",
    "from nltk.tokenize import word_tokenize\n",
    "from textblob import TextBlob\n",
    "import string\n",
    "\n",
    "nltk.download('stopwords')\n",
    "nltk.download('punkt')\n",
    "nltk.download('wordnet')"
   ]
  },
  {
   "cell_type": "code",
   "execution_count": 41,
   "id": "b2572cbe-1aee-4506-8ed4-26df87d8b08c",
   "metadata": {},
   "outputs": [
    {
     "name": "stderr",
     "output_type": "stream",
     "text": [
      "[nltk_data] Downloading package punkt_tab to\n",
      "[nltk_data]     C:\\Users\\Hamza\\AppData\\Roaming\\nltk_data...\n",
      "[nltk_data]   Unzipping tokenizers\\punkt_tab.zip.\n"
     ]
    },
    {
     "data": {
      "text/plain": [
       "True"
      ]
     },
     "execution_count": 41,
     "metadata": {},
     "output_type": "execute_result"
    }
   ],
   "source": [
    "import nltk\n",
    "nltk.download('punkt_tab')"
   ]
  },
  {
   "cell_type": "code",
   "execution_count": 50,
   "id": "34384738-f799-41bf-9742-1d88a2328c8a",
   "metadata": {},
   "outputs": [
    {
     "name": "stdout",
     "output_type": "stream",
     "text": [
      "NLTK 'punkt' tokenizer data is ready.\n",
      "DataFrame with 'Reviews_t' column:\n",
      "    CUSTOMER NAME RATING                                             REVIEW  \\\n",
      "0  Bijaya Mohanty    4.6  just go for it. amazing one. beautiful camera ...   \n",
      "1       May, 2024      5                                       awesome! 👍🔥😊   \n",
      "2     Rishabh Jha      5                              high quality camera 💕   \n",
      "3       Apr, 2024      5             very nice. highly recommended product.   \n",
      "4          Ajin V      4             camera quality is improved loving it !   \n",
      "\n",
      "        city       DATE                                          Reviews_t  \n",
      "0   Balaghat  Feb, 2024  [just go for it., amazing one., beautiful came...  \n",
      "1     Mumbai  Jan, 2024                                    [awesome!, 👍🔥😊]  \n",
      "2      Delhi  Mar, 2024                            [high quality camera 💕]  \n",
      "3       Pune  Apr, 2024          [very nice., highly recommended product.]  \n",
      "4  Bangalore  Feb, 2024           [camera quality is improved loving it !]  \n"
     ]
    }
   ],
   "source": [
    "\n",
    "import pandas as pd\n",
    "import nltk\n",
    "from nltk.tokenize import sent_tokenize\n",
    "\n",
    "\n",
    "try:\n",
    "    nltk.data.find('tokenizers/punkt')\n",
    "except nltk.downloader.DownloadError:\n",
    "    nltk.download('punkt')\n",
    "    print(\"NLTK 'punkt' tokenizer data downloaded successfully.\")\n",
    "print(\"NLTK 'punkt' tokenizer data is ready.\")\n",
    "\n",
    "data = {\n",
    "    \"CUSTOMER NAME\": [\"Bijaya Mohanty\", \"May, 2024\", \"Rishabh Jha\", \"Apr, 2024\", \"Ajin V\"],\n",
    "    \"RATING\": [\"4.6\", \"5\", \"5\", \"5\", \"4\"],\n",
    "    \"REVIEW\": [\n",
    "        \"Just go for it. Amazing one. Beautiful camera with... great features.\",\n",
    "        \"Awesome! 👍🔥😊\",\n",
    "        \"High quality camera 💕 READ MORE\",\n",
    "        \"Very nice. Highly recommended product.\",\n",
    "        \"Camera Quality is Improved Loving It READ MORE!\"\n",
    "    ],\n",
    "    \"city\": [\"Balaghat\", \"Mumbai\", \"Delhi\", \"Pune\", \"Bangalore\"], \n",
    "    \"DATE\": [\"Feb, 2024\", \"Jan, 2024\", \"Mar, 2024\", \"Apr, 2024\", \"Feb, 2024\"] \n",
    "}\n",
    "df = pd.DataFrame(data)\n",
    "\n",
    "df[\"REVIEW\"] = df[\"REVIEW\"].astype(str).str.lower().str.replace(\"read more\", \"\", case=False).str.strip()\n",
    "df[\"REVIEW\"] = df[\"REVIEW\"].str.replace(r\"\\s+\", \" \", regex=True)\n",
    "\n",
    "\n",
    "df[\"Reviews_t\"] = df['REVIEW'].apply(sent_tokenize)\n",
    "\n",
    "\n",
    "print(\"DataFrame with 'Reviews_t' column:\")\n",
    "print(df.head())\n",
    "\n",
    "\n"
   ]
  },
  {
   "cell_type": "code",
   "execution_count": 8,
   "id": "da2163ab-f38e-4a51-b157-7aa735788690",
   "metadata": {},
   "outputs": [],
   "source": []
  },
  {
   "cell_type": "code",
   "execution_count": 33,
   "id": "61d7e9cc-527a-4a52-a40d-a4296f44d5d3",
   "metadata": {},
   "outputs": [],
   "source": [
    "from textblob import TextBlob\n",
    "\n",
    "# Create polarity column\n",
    "df['Average_Polarity'] = df['Review'].apply(lambda x: TextBlob(x).sentiment.polarity)\n"
   ]
  },
  {
   "cell_type": "code",
   "execution_count": 32,
   "id": "119c6779-d1ed-4734-b60c-abe1ddd86a82",
   "metadata": {},
   "outputs": [
    {
     "name": "stdout",
     "output_type": "stream",
     "text": [
      "Average Polarity Score : 0.48\n",
      "The Average Polarity Score is Positive\n"
     ]
    }
   ],
   "source": [
    "polarity_score = df['Average_Polarity'].mean().round(2)\n",
    "print(f'Average Polarity Score : {polarity_score}')\n",
    "\n",
    "if polarity_score > 0.75:\n",
    "    print('The Average Polarity Score is Extremely Positive')\n",
    "elif 0 < polarity_score <= 0.75:\n",
    "    print('The Average Polarity Score is Positive')\n",
    "elif polarity_score == 0:\n",
    "    print('The Average Polarity Score is Neutral')\n",
    "elif -0.75 <= polarity_score < 0:\n",
    "    print('The Average Polarity Score is Negative')\n",
    "else:\n",
    "    print('The Average Polarity Score is Extremely Negative')\n"
   ]
  },
  {
   "cell_type": "code",
   "execution_count": null,
   "id": "4316437d-f8c5-4317-b8da-905cf442cf23",
   "metadata": {},
   "outputs": [],
   "source": []
  },
  {
   "cell_type": "code",
   "execution_count": 15,
   "id": "40f7b48f-5072-43cb-a787-dc95f9538132",
   "metadata": {},
   "outputs": [],
   "source": [
    "def get_sentiment_class(score):\n",
    "    if score > 0.75:\n",
    "        return \"Extremely Positive\"\n",
    "    elif score > 0:\n",
    "        return \"Positive\"\n",
    "    elif score == 0:\n",
    "        return \"Neutral\"\n",
    "    elif score > -0.75:\n",
    "        return \"Negative\"\n",
    "    else:\n",
    "        return \"Extremely Negative\"\n",
    "\n",
    "df[\"Sentiment_Class\"] = df[\"Average_Polarity\"].apply(get_sentiment_class)\n"
   ]
  },
  {
   "cell_type": "code",
   "execution_count": 34,
   "id": "a969f205-5c39-4e16-9b91-f9cd659199ef",
   "metadata": {},
   "outputs": [
    {
     "name": "stdout",
     "output_type": "stream",
     "text": [
      "count    320.000000\n",
      "mean       0.478994\n",
      "std        0.178709\n",
      "min       -0.102500\n",
      "25%        0.365625\n",
      "50%        0.500000\n",
      "75%        0.575833\n",
      "max        0.833333\n",
      "Name: Average_Polarity, dtype: float64\n",
      "(0.459, 0.553]        113\n",
      "(0.74, 0.833]          40\n",
      "(0.365, 0.459]         39\n",
      "(0.553, 0.646]         32\n",
      "(0.178, 0.272]         31\n",
      "(0.272, 0.365]         31\n",
      "(0.646, 0.74]          16\n",
      "(0.0847, 0.178]        11\n",
      "(-0.00892, 0.0847]      4\n",
      "(-0.104, -0.00892]      3\n",
      "Name: count, dtype: int64\n"
     ]
    }
   ],
   "source": [
    "print(df[\"Average_Polarity\"].describe())\n",
    "print(df[\"Average_Polarity\"].value_counts(bins=10))\n"
   ]
  },
  {
   "cell_type": "code",
   "execution_count": 35,
   "id": "9e024c79-4fb2-439d-83ab-570393756260",
   "metadata": {},
   "outputs": [
    {
     "name": "stdout",
     "output_type": "stream",
     "text": [
      "Sentiment_Class\n",
      "positive              312\n",
      "extremely positive      5\n",
      "negative                3\n",
      "Name: count, dtype: int64\n"
     ]
    }
   ],
   "source": [
    "print(df[\"Sentiment_Class\"].value_counts())\n"
   ]
  },
  {
   "cell_type": "code",
   "execution_count": 30,
   "id": "915764af-ffd2-4ae3-b5ab-66a5b52c054c",
   "metadata": {},
   "outputs": [
    {
     "data": {
      "image/png": "[encoded data removed]",
      "text/plain": [
       "<Figure size 1000x600 with 1 Axes>"
      ]
     },
     "metadata": {},
     "output_type": "display_data"
    }
   ],
   "source": [
    "import matplotlib.pyplot as plt\n",
    "import seaborn as sns\n",
    "\n",
    "# Plots figure for Sentiment Distribution based on Sentiment Category\n",
    "plt.figure(figsize=(10, 6))\n",
    "sns.histplot(x=df.Sentiment_Class, color='red')\n",
    "plt.title('Sentiment Distribution')\n",
    "plt.xlabel('Sentiment Category')\n",
    "plt.ylabel('Frequency')\n",
    "plt.xticks(rotation=0)\n",
    "plt.show()"
   ]
  },
  {
   "cell_type": "code",
   "execution_count": null,
   "id": "2148a99d-4da9-4471-bc3e-7141f0507e20",
   "metadata": {},
   "outputs": [],
   "source": []
  },
  {
   "cell_type": "code",
   "execution_count": 25,
   "id": "fe8006f7-33b5-4020-8c1d-76d7a027229f",
   "metadata": {},
   "outputs": [],
   "source": [
    "# Create Review_Length column\n",
    "df['Review_Length'] = df['Review'].apply(lambda x: len(x.split()))\n"
   ]
  },
  {
   "cell_type": "code",
   "execution_count": 31,
   "id": "1f2e8638-2f1d-440d-a308-485dd0b3fb92",
   "metadata": {},
   "outputs": [
    {
     "name": "stderr",
     "output_type": "stream",
     "text": [
      "C:\\Users\\Hamza\\AppData\\Local\\Temp\\ipykernel_12644\\4256221596.py:5: FutureWarning: \n",
      "\n",
      "Passing `palette` without assigning `hue` is deprecated and will be removed in v0.14.0. Assign the `x` variable to `hue` and set `legend=False` for the same effect.\n",
      "\n",
      "  sns.boxplot(x='Sentiment_Class', y='Review_Length', data=df, palette='Set2')\n"
     ]
    },
    {
     "data": {
      "image/png": "[encoded data removed]",
      "text/plain": [
       "<Figure size 1000x600 with 1 Axes>"
      ]
     },
     "metadata": {},
     "output_type": "display_data"
    }
   ],
   "source": [
    "import matplotlib.pyplot as plt\n",
    "import seaborn as sns\n",
    "\n",
    "plt.figure(figsize=(10, 6))\n",
    "sns.boxplot(x='Sentiment_Class', y='Review_Length', data=df, palette='Set2')\n",
    "plt.xlabel(\"Sentiment Class\")\n",
    "plt.ylabel(\"Review Length (word count)\")\n",
    "plt.title(\"Sentiment vs Review Length\")\n",
    "plt.show()\n"
   ]
  },
  {
   "cell_type": "code",
   "execution_count": null,
   "id": "fb59f296-0ec3-40d7-9a9a-00d43ad8ec6f",
   "metadata": {},
   "outputs": [],
   "source": []
  }
 ],
 "metadata": {
  "kernelspec": {
   "display_name": "Python 3 (ipykernel)",
   "language": "python",
   "name": "python3"
  },
  "language_info": {
   "codemirror_mode": {
    "name": "ipython",
    "version": 3
   },
   "file_extension": ".py",
   "mimetype": "text/x-python",
   "name": "python",
   "nbconvert_exporter": "python",
   "pygments_lexer": "ipython3",
   "version": "3.13.3"
  }
 },
 "nbformat": 4,
 "nbformat_minor": 5
}
